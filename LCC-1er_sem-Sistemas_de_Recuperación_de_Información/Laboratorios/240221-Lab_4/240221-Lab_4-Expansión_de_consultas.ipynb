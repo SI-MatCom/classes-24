{
  "cells": [
    {
      "cell_type": "code",
      "execution_count": null,
      "metadata": {
        "id": "5eTQ5UAqYz8v"
      },
      "outputs": [],
      "source": [
        "# Instalando las dependencias ...\n",
        "\n",
        "!pip install ir-datasets nltk spacy\n",
        "\n",
        "import nltk\n",
        "nltk.download('wordnet')\n",
        "\n",
        "!python -m spacy download en_core_web_sm"
      ]
    },
    {
      "cell_type": "markdown",
      "metadata": {
        "id": "x9d4EgJKZHtC"
      },
      "source": [
        "# Laboratorio #4: Expasión de la consulta\n",
        "\n",
        "En los Sistemas de Recuperación de Información la **expansión de consultas** es una técnica utilizada para mejorar la precisión y la exhaustividad de los resultados de búsqueda. Consiste en ampliar la consulta original del usuario agregando términos relevantes que puedan mejorar la recuperación de información.\n",
        "\n",
        "De las técnicas más utilizadas para expandir consultas en esta clase se verán:uso de sinónimos y matriz de co-ocurrencia.\n",
        "\n",
        "Luego, el objetivo de este laboratorio es implementar estas dos técnicas."
      ]
    },
    {
      "cell_type": "code",
      "execution_count": 28,
      "metadata": {
        "id": "4x-mdGb7ZNIn"
      },
      "outputs": [],
      "source": [
        "import nltk\n",
        "from nltk.corpus import wordnet\n",
        "from nltk.wsd import lesk\n",
        "\n",
        "import ir_datasets\n",
        "dataset = ir_datasets.load(\"cranfield\")\n",
        "\n",
        "import spacy\n",
        "nlp = spacy.load(\"en_core_web_sm\")"
      ]
    },
    {
      "cell_type": "markdown",
      "metadata": {
        "id": "glKtoYGjeGv_"
      },
      "source": [
        "Antes de comenzar a implementar las técnicas, debe de preparar el escenario. Para ello tiene que procesar el texto e identificar los tokens que lo caracterizó.\n",
        "\n",
        "Conozca que `Token.pos_` devuelve la etiqueta gramatical del token. Las etiquetas se rigen por las categorías universales siguientes:\n",
        "  - ADJ: adjetivo\n",
        "  - ADP: aposición\n",
        "  - ADV: adverbio\n",
        "  - AUX: auxiliar\n",
        "  - CCONJ: conjunción coordinante\n",
        "  - DET: determinante\n",
        "  - INTJ: interjección\n",
        "  - NOUN: sustantivo\n",
        "  - NUM: número\n",
        "  - PARTE: partícula\n",
        "  - PRON: pronombre\n",
        "  - PROPN: nombre propio\n",
        "  - SCONJ: conjunción subordinante\n",
        "  - SYMBOL: símbolo\n",
        "  - VERB: verbo\n",
        "  - X: otro"
      ]
    },
    {
      "cell_type": "markdown",
      "metadata": {
        "id": "HdbZAj5OiYC9"
      },
      "source": [
        "### **Ejercicio #1:** Determine las etiquetas que servirán como filtro para caracterizar a cada documento."
      ]
    },
    {
      "cell_type": "code",
      "execution_count": 43,
      "metadata": {
        "id": "-OVb63vvgfz1"
      },
      "outputs": [],
      "source": [
        "# Not Implemented\n",
        "tag_list = []"
      ]
    },
    {
      "cell_type": "code",
      "execution_count": 44,
      "metadata": {
        "id": "vAsPPE-vc2qK"
      },
      "outputs": [],
      "source": [
        "def tokenize(text : str):\n",
        "  \"\"\"\n",
        "  Tokenize and select text tokens\n",
        "\n",
        "  Args:\n",
        "    - text (str) : Text.\n",
        "\n",
        "  Return:\n",
        "    list<str>\n",
        "\n",
        "  \"\"\"\n",
        "  global tag_list\n",
        "\n",
        "  doc = nlp(text)\n",
        "  tokens = []\n",
        "  for token in doc:\n",
        "    if token.pos_ in tag_list:\n",
        "      tokens.append(token.lemma_)\n",
        "\n",
        "  return tokens\n"
      ]
    },
    {
      "cell_type": "markdown",
      "metadata": {
        "id": "sUduvk06oPQ8"
      },
      "source": [
        "## Técnica #1: Uso de la matriz de co-ocurrencia\n",
        "\n",
        "La matriz de co-ocurrencia es una representación tabular que muestra la cantidad de veces que ocurre cada par de tokens en un contexto determinado. El contexto puede ser una ventana de palabras alrededor de un token específico o incluso el documento completo, siendo este último el más utilizado en procesamiento de corpus pequeños. Cada celda de la matriz indica el número de veces que dos tokens aparecen juntos en el mismo contexto. Además, esta matriz captura relaciones entre los tokens y es simétrica.\n",
        "\n",
        "Esta matriz se construye al inicio del sistema y se utiliza posteriormente cada vez que sea necesaria.\n",
        "\n",
        "### **Ejercicio #2:** Implemente la contrucción de la matriz de co-ocurrencia."
      ]
    },
    {
      "cell_type": "code",
      "execution_count": null,
      "metadata": {
        "id": "qSRsSucTnIuk"
      },
      "outputs": [],
      "source": [
        "def build_co_occurrence_matrix(docs):\n",
        "  \"\"\"\n",
        "  Constructs the occurrence matrix from a tokenized corpus. Uses the document as a window.\n",
        "\n",
        "  Args:\n",
        "    - docs (list<list<str>>) : Tokenized corpus.\n",
        "\n",
        "  Return:\n",
        "    - `look for your best representation`\n",
        "\n",
        "  \"\"\"\n",
        "  return NotImplemented('Resuelva el ejercicio #2')"
      ]
    },
    {
      "cell_type": "code",
      "execution_count": null,
      "metadata": {
        "id": "x-dMUgKy0e5P"
      },
      "outputs": [],
      "source": [
        "docs = [tokenize(doc) for (_, _, doc, _, _) in dataset.docs_iter()]\n",
        "co_occurrence_matrix = build_co_occurrence_matrix(docs)"
      ]
    },
    {
      "cell_type": "markdown",
      "metadata": {
        "id": "MeCmJiZY0b5a"
      },
      "source": [
        "Una vez construida la matriz de co-ocurrencia, es posible implementar la técnica de expansión de consultas.\n",
        "\n",
        "### **Ejercicio #3:** Implemente la expansión de consultas teniendo en cuenta la matriz de co-ocurrencia."
      ]
    },
    {
      "cell_type": "code",
      "execution_count": 46,
      "metadata": {
        "id": "TrplPAm61N_L"
      },
      "outputs": [],
      "source": [
        "def expand_with_co_occurrence_matrix(query, co_occurrence_matrix):\n",
        "  \"\"\"\n",
        "  Expand the query using co-occurrence matrix\n",
        "\n",
        "  Args:\n",
        "    - query (list<str>) : Tokenized query\n",
        "    - co_occurrence_matrix (??) : Co-occurrence matrix\n",
        "\n",
        "  Return:\n",
        "    list<str>\n",
        "\n",
        "  \"\"\"\n",
        "\n",
        "  raise NotImplementedError('Resuelva el ejercicio #3')"
      ]
    },
    {
      "cell_type": "code",
      "execution_count": null,
      "metadata": {
        "id": "FqwWfhmZ1PpK"
      },
      "outputs": [],
      "source": [
        "query = \"Could you provide insights on the relationship between theory, measurement, and model, and how they converge at a certain point?\"\n",
        "print('Query: ', query)\n",
        "\n",
        "tokenized_query = tokenize(query)\n",
        "print('Tokenized query: ', tokenized_query)\n",
        "\n",
        "tmp = expand_with_co_occurrence_matrix(query)\n",
        "print('expanded query using co-occurrence matrix: ', tmp)"
      ]
    },
    {
      "cell_type": "markdown",
      "metadata": {
        "id": "rGNkIeRljC6v"
      },
      "source": [
        "## Técnica #2: Uso de WordNet\n",
        "\n",
        "Wordnet es una base de datos léxica para el idioma inglés que funciona como una red semántica. Cada palabra tiene un conjunto de conceptos correspondientes en Wordnet denominados synsets. Un synset representa el significado de una palabra en un contexto específico.\n",
        "\n",
        "### Relaciones Semánticas entre Synsets\n",
        "\n",
        "- **Hipónimos**: Los hipónimos son synsets que representan subtipos o instancias específicas de un concepto más general. Por ejemplo, para el synset de \"árbol\", los hipónimos incluirían tipos específicos de árboles como \"roble\", \"pino\", etc. Los hipónimos proporcionan una relación de \"es un tipo de\".\n",
        "\n",
        "- **Hiperónimos**: Los hiperónimos son lo opuesto a los hipónimos; son synsets que representan categorías más generales bajo las cuales se clasifican varios synsets más específicos. Siguiendo el ejemplo anterior, \"planta\" sería un hiperónimo de \"árbol\". Los hiperónimos proporcionan una relación de \"es una categoría de\".\n",
        "\n",
        "- **Merónimos**: Los merónimos describen una relación de parte-todo. Hay varios tipos de merónimos:\n",
        "    - Parte (Part Meronyms): Indican que el synset es una parte de algo más grande. Por ejemplo, \"rueda\" es un parte merónimo de \"automóvil\".\n",
        "    - Miembro (Member Meronyms): Indican que el synset es un miembro de un conjunto o grupo. Por ejemplo, \"árbol\" es un miembro merónimo de \"bosque\".\n",
        "    - Sustancia (Substance Meronyms): Indican que el synset es una sustancia que compone algo más grande. Por ejemplo, \"madera\" es un sustancia merónimo de \"árbol\".\n",
        "\n",
        "- **Holónimos**: Los holónimos describen la relación inversa a los merónimos; indican que el synset es un todo que incluye las partes, miembros o sustancias representadas por otros synsets. Hay varios tipos:\n",
        "    - Parte (Part Holonyms): Indican que el synset incluye al synset dado como una parte. Por ejemplo, \"automóvil\" es un parte holónimo de \"rueda\".\n",
        "    - Miembro (Member Holonyms): Indican que el synset incluye al synset dado como un miembro. Por ejemplo, \"bosque\" es un miembro holónimo de \"árbol\".\n",
        "    - Sustancia (Substance Holonyms): Indican que el synset incluye al synset dado como una sustancia. Por ejemplo, \"árbol\" es un sustancia holónimo de \"madera\".\n",
        "\n",
        "- **Antónimos**: Los antónimos son lemas en synsets opuestos o contrastantes en significado. Por ejemplo, \"frío\" es antónimo de \"caliente\". La relación de antonimia es directa y se encuentra principalmente a nivel de lemas dentro de los synsets.\n",
        "\n",
        "- **Entailments** (para verbos): Las implicaciones o entailments describen una relación donde un verbo implica otro. Por ejemplo, \"roncar\" implica \"dormir\". Si alguien ronca, entonces necesariamente está durmiendo.\n",
        "\n",
        "La función `wordnet.synsets(word)` devuelve la lista de synsets asociado a `word`.\n",
        "\n",
        "### Funciones Principales sobre Synsets\n",
        "\n",
        "- `definition()`: Devuelve la definición del Synset.\n",
        "- `examples()`: Muestra ejemplos de uso.\n",
        "- `lemmas()`: Lista los lemas asociados al Synset.\n",
        "- `name()`: Retorna el nombre identificador del Synset.\n",
        "- `lemma_names()`: Obtiene los nombres de los lemas.\n",
        "- `hypernyms()`: Busca Synsets más generales (conceptos padres).\n",
        "- `hyponyms()`: Encuentra Synsets más específicos (subconceptos).\n",
        "- `part_meronyms()`: Identifica las partes constituyentes de un Synset.\n",
        "- `substance_meronyms()`: Encuentra sustancias que componen el Synset.\n",
        "- `member_meronyms()`: Lista miembros de un grupo o conjunto que representa el Synset.\n",
        "- `part_holonyms()`: Synsets de los cuales este Synset es parte.\n",
        "- `substance_holonyms()`: Synsets que contienen este Synset como sustancia.\n",
        "- `member_holonyms()`: Grupos o conjuntos a los que este Synset pertenece.\n",
        "- `antonyms()`: Encuentra opuestos a través de los lemas (debe accederse a través de lemas específicos).\n",
        "- `entailments()`: (Para verbos) Acciones que implica realizar el verbo.\n",
        "- `also_sees()`: Synsets conceptualmente relacionados que no se ajustan a otras relaciones.\n",
        "- `verb_groups()`: Para verbos, otros verbos que están conceptualmente relacionados.\n",
        "- `attributes()`: Atributos asociados al Synset para adjetivos.\n",
        "- `similar_tos()`: Synsets que son similares en concepto.\n",
        "- `topic_domains()`: Devuelve los dominios temáticos asociados al Synset.\n",
        "- `region_domains()`: Devuelve los dominios regionales asociados al Synset.\n",
        "- `usage_domains()`: Devuelve los dominios de uso asociados al Synset.\n",
        "- `causes()`: (Para verbos) Eventos o estados que el verbo causa.\n",
        "\n",
        "Estas relaciones semánticas entre Synsets facilitan una comprensión de la estructura semántica del léxico, siendo muy útiles para aplicaciones en procesamiento del lenguaje natural."
      ]
    },
    {
      "cell_type": "markdown",
      "metadata": {},
      "source": [
        "### **Ejercicio #4:**  Escoja la definición correcta para cada palabra de la consulta."
      ]
    },
    {
      "cell_type": "code",
      "execution_count": null,
      "metadata": {},
      "outputs": [],
      "source": [
        "def get_synsets_for_context(query):\n",
        "    \"\"\"\n",
        "    Get correct definition for each word in query for the given context\n",
        "\n",
        "    Args:\n",
        "        - query (list<str>) : Tokenized query\n",
        "\n",
        "    Return:\n",
        "        list<Synset>\n",
        "\n",
        "    \"\"\"\n",
        "    \n",
        "    raise NotImplementedError('Resuelva el ejercicio #4')"
      ]
    },
    {
      "cell_type": "markdown",
      "metadata": {},
      "source": [
        "### **Ejercicio #5:**  Implemente la expansión de consultas aprovechando las relaciones semánticas."
      ]
    },
    {
      "cell_type": "code",
      "execution_count": null,
      "metadata": {
        "id": "gpGXLiw9f3cZ"
      },
      "outputs": [],
      "source": [
        "def expand_with_wordnet(query):\n",
        "  \"\"\"\n",
        "  Expand the query using synonyms\n",
        "\n",
        "  Args:\n",
        "    - query (list<str>) : Tokenized query\n",
        "\n",
        "  Return:\n",
        "    list<str>\n",
        "\n",
        "  \"\"\"\n",
        "  synsets = get_synsets_for_context(query)\n",
        "  \n",
        "  raise NotImplementedError('Resuelva el ejercicio #5')"
      ]
    },
    {
      "cell_type": "code",
      "execution_count": null,
      "metadata": {
        "id": "qDVM8jqLf7Fe"
      },
      "outputs": [],
      "source": [
        "query = \"Could you provide insights on the relationship between theory, measurement, and model, and how they converge at a certain point?\"\n",
        "print('Query: ', query)\n",
        "\n",
        "tokenized_query = tokenize(query)\n",
        "print('Tokenized query: ', tokenized_query)\n",
        "\n",
        "tmp = expand_with_wordnet(query)\n",
        "print('Expanded query using synonyms: ', tmp)"
      ]
    }
  ],
  "metadata": {
    "colab": {
      "provenance": []
    },
    "kernelspec": {
      "display_name": "Python 3",
      "name": "python3"
    },
    "language_info": {
      "name": "python"
    }
  },
  "nbformat": 4,
  "nbformat_minor": 0
}
