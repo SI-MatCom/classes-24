{
  "cells": [
    {
      "cell_type": "markdown",
      "metadata": {},
      "source": [
        "### Instalando las dependencias ...\n",
        "\n",
        "Durante la clase se estará utilizando la siguiente biblioteca:\n",
        "- `networkx` permite el trabajo con los grafos.\n",
        "  \n",
        "Compruebe que tenga la biblioteca o instálela."
      ]
    },
    {
      "cell_type": "code",
      "execution_count": null,
      "metadata": {},
      "outputs": [],
      "source": [
        "!pip install networkx"
      ]
    },
    {
      "cell_type": "markdown",
      "metadata": {},
      "source": [
        "# Laboratorio #8: Extracción de información en redes\n",
        "\n",
        "La recuperación de información en redes es fundamental en el contexto de la información digital y la web. Razones como:\n",
        "- acceso rápido a la información,\n",
        "- búsqueda precisa, \n",
        "- organización de la información y\n",
        "- descubrimiento de conocimientos\n",
        "  \n",
        "son algunos motivos que muestran la importancia que tiene este proceso no solo en los motores de búsqueda, sino también en la organización de los datos en las bases de datos y en sistemas de gestión de contenido.\n",
        "\n",
        "En el análisis y la extracción de información en redes se trabaja con la centralidad y la detección de comunidades. La **centralidad** se refiere a la medida en que un nodo específico en una red es importante o influyente. Existen diferentes tipos de centralidad, como la centralidad de grado (que se basa en el número de conexiones de un nodo), la centralidad de intermediación (que mide la importancia de un nodo en el flujo de información entre otros nodos) y la centralidad de cercanía (que evalúa qué tan cerca está un nodo de otros nodos en la red). La centralidad ayuda a identificar los nodos más importantes en una red, que pueden ser puntos de control, difusión de información o intermediarios clave.\n",
        "\n",
        "Por su parte, la **detección de comunidades** se refiere al proceso de identificar grupos de nodos densamente conectados dentro de la red, donde los nodos dentro de un grupo tienen más conexiones entre sí que con nodos fuera del grupo. Estos grupos se denominan comunidades y pueden representar subgrupos funcionales, grupos de interés compartido o divisiones naturales en una red. Los algoritmos de detección de comunidades pueden ayudar a entender la estructura interna de una red, identificar subgrupos cohesivos y revelar patrones de interacción entre nodos."
      ]
    },
    {
      "cell_type": "markdown",
      "metadata": {},
      "source": [
        "## Juegos de Tronos ⚔️ 👑 🩸\n",
        "\n",
        "En la clase se trabajará con las relaciones de los personajes dentro de *A Storm of Swords* de George R. R. Martin, la tercera novela de su serie *A Song of Ice and Fire* (también conocida por la adaptación televisiva de HBO como *Game of Thrones*).\n",
        "\n",
        "### Información sobre los personajes y sus relaciones\n",
        "Los datos contienen 353 relaciones entre los 107 personajes distintos capturados en la obra.\n",
        "\n",
        "Cada relación es simétrica y se encuentra ponderada, cuyo cálculo se determinó en función de cuántas veces aparecieron los nombres de dos personajes con una diferencia de 15 palabras entre sí en la novela.\n",
        "\n",
        "### Antecedentes y significado\n",
        "\n",
        "Los personajes de esta trilogía se encuentran dispersos geográficamente y enredados en sus propias redes sociales, como son las casas nobles (consulte la imagen).\n",
        "\n",
        "<div style=\"text-align:center;\">\n",
        "    <img src=\"got.png\" width=\"500\">\n",
        "</div>\n",
        "<!-- ![Logo de Jupyter](got.png) -->\n",
        "\n",
        "Para aquellos que no están familiarizados con GOT, aquí hay un poco más de información general (a través de Beveridge y Shan) que podría ser útil para comprender la red social:\n",
        "\n",
        "> La narración comienza en un momento de paz, con todas las casas unificadas bajo el gobierno del rey Robert Baratheon, quien sostiene el Trono de Hierro... [Entonces el rey Robert muere y se desata todo.]\n",
        "\n",
        "> Impulsados por una causa o circunstancia, los personajes de muchas familias nobles se lanzan a viajes arduos y entrelazados. Entre estas casas se encuentran:\n",
        "> - la honorable familia Stark (Eddard, Catelyn, Robb, Sansa, Arya, Bran y Jon Snow),\n",
        "> - los pomposos Lannister (Tywin, Jaime, Cersei, Tyrion y Joffrey),\n",
        "> - los despreciados Baratheon (liderados por el hermano de Robert, Stannis) y \n",
        "> - la exiliada Daenerys, la última de la otrora poderosa Casa Targaryen.\n",
        "\n",
        "Luego, usted ha sido designado a desentrañar informaciones ocultas en esta red de personajes. Para ello se han definido un conjunto de ejercicios."
      ]
    },
    {
      "cell_type": "code",
      "execution_count": null,
      "metadata": {},
      "outputs": [],
      "source": [
        "import networkx as nx\n",
        "import pandas as pd\n",
        "import matplotlib.pyplot as plt\n",
        "import matplotlib.cm as cm"
      ]
    },
    {
      "cell_type": "markdown",
      "metadata": {},
      "source": [
        "### Ejercicio #1:\n",
        "Construya un grafo con la información que se provee en el fichero `got.csv`. \n",
        "\n",
        "###### Ayuda: Consulte la función `networkx.from_pandas_edgelist`."
      ]
    },
    {
      "cell_type": "code",
      "execution_count": null,
      "metadata": {},
      "outputs": [],
      "source": [
        "def build_graph(data_path):\n",
        "    \"\"\"\n",
        "    Builds a graph from the information defined in a CSV file\n",
        "    \n",
        "    Arg:\n",
        "        - data_path (str) : CSV file path\n",
        "    \n",
        "    Return:\n",
        "        networkx.classes.graph.Graph\n",
        "        \n",
        "    \"\"\"\n",
        "    raise Exception('Not Implemented')\n",
        "    \n",
        "\n",
        "data_path = 'got.csv'\n",
        "graph = build_graph(data_path)  "
      ]
    },
    {
      "cell_type": "markdown",
      "metadata": {},
      "source": [
        "Veamos el grafo recién construido"
      ]
    },
    {
      "cell_type": "code",
      "execution_count": null,
      "metadata": {},
      "outputs": [],
      "source": [
        "plt.figure(figsize=(15, 15), frameon=False)  \n",
        "\n",
        "pos = nx.spring_layout(graph, k=0.8, iterations=20)\n",
        "\n",
        "node_sizes = [100 * graph.degree[n] for n in graph.nodes]\n",
        "\n",
        "nx.draw_networkx_nodes(graph, pos, node_size=node_sizes, node_color='skyblue', alpha=0.7)\n",
        "nx.draw_networkx_edges(graph, pos, width=0.2, alpha=0.5)\n",
        "\n",
        "threshold = 0.8\n",
        "significant_nodes = [node for node in graph.nodes if graph.degree[node] > threshold]  \n",
        "labels = {node: node for node in significant_nodes}\n",
        "nx.draw_networkx_labels(graph, pos, labels, font_size=8)\n",
        "\n",
        "plt.show()"
      ]
    },
    {
      "cell_type": "markdown",
      "metadata": {},
      "source": [
        "### Ejercicio #2:\n",
        "Haciendo uso del grafo de relaciones, responda:\n",
        "1. ¿Quiénes son los personajes más importantes en la trama?\n",
        "2. ¿Qué personajes tienen más poder o influencia política?\n",
        "3. ¿Quiénes son los personajes más aislados o periféricos de la historia?"
      ]
    },
    {
      "cell_type": "code",
      "execution_count": null,
      "metadata": {},
      "outputs": [],
      "source": [
        "# 2.1\n",
        "\n",
        "# Not Implemented\n",
        "info = None"
      ]
    },
    {
      "cell_type": "code",
      "execution_count": null,
      "metadata": {},
      "outputs": [],
      "source": [
        "# 2.2\n",
        "\n",
        "# Not Implemented\n",
        "info = None"
      ]
    },
    {
      "cell_type": "code",
      "execution_count": null,
      "metadata": {},
      "outputs": [],
      "source": [
        "# 2.3\n",
        "\n",
        "# Not Implemented\n",
        "info = None"
      ]
    },
    {
      "cell_type": "markdown",
      "metadata": {},
      "source": [
        "### Ejercicio #3:\n",
        "Haciendo uso del grafo de relaciones, identifique:\n",
        "\n",
        "1. Las comunidades principales en la red de personajes.\n",
        "2. Subgrupos de al menos cuatro personajes que están altamente interconectados y que podrían tener un papel crucial en la trama."
      ]
    },
    {
      "cell_type": "code",
      "execution_count": null,
      "metadata": {},
      "outputs": [],
      "source": [
        "# 3.1\n",
        "\n",
        "# Not Implemented\n",
        "info = None"
      ]
    },
    {
      "cell_type": "markdown",
      "metadata": {},
      "source": [
        "Veamos el resultado en forma de grafo"
      ]
    },
    {
      "cell_type": "code",
      "execution_count": null,
      "metadata": {},
      "outputs": [],
      "source": [
        "plt.figure(figsize=(15, 15), frameon=False) \n",
        "\n",
        "pos = nx.spring_layout(graph, k=0.8, iterations=50)  \n",
        "\n",
        "min_size = 50 \n",
        "node_sizes = [max(100 * graph.degree[n], min_size) for n in graph.nodes]\n",
        "\n",
        "color_map = {}\n",
        "default_color = 0  \n",
        "for i, d in enumerate(info):\n",
        "    for character in d:\n",
        "        color_map[character] = i\n",
        "node_colors = [color_map.get(node, default_color) for node in graph.nodes()]\n",
        "\n",
        "nx.draw_networkx_nodes(graph, pos, node_size=node_sizes, node_color=node_colors, cmap=plt.cm.tab10, alpha=0.7)\n",
        "\n",
        "nx.draw_networkx_edges(graph, pos, width=0.2, alpha=0.5)\n",
        "\n",
        "labels = {node: node for node in graph.nodes()}\n",
        "nx.draw_networkx_labels(graph, pos, labels, font_size=8)\n",
        "\n",
        "plt.show()"
      ]
    },
    {
      "cell_type": "code",
      "execution_count": null,
      "metadata": {},
      "outputs": [],
      "source": [
        "# 3.2\n",
        "\n",
        "# Not Implemented\n",
        "info = None"
      ]
    },
    {
      "cell_type": "markdown",
      "metadata": {},
      "source": [
        "Veamos el resultado en forma de grafo"
      ]
    },
    {
      "cell_type": "code",
      "execution_count": null,
      "metadata": {},
      "outputs": [],
      "source": [
        "plt.figure(figsize=(15, 15), frameon=False)\n",
        "\n",
        "pos = nx.spring_layout(graph, k=0.5, iterations=50)  \n",
        "\n",
        "node_sizes = {n: 100 * graph.degree(n) for n in graph.nodes()}\n",
        "\n",
        "colors = iter(cm.tab10(range(len(info))))\n",
        "\n",
        "for i, d in enumerate(info, 1):\n",
        "    subgraph = graph.subgraph(d)\n",
        "    color = next(colors)\n",
        "    nx.draw_networkx_nodes(subgraph, pos, node_size=[node_sizes[n] for n in d], node_color=[color]*len(d), alpha=0.7)\n",
        "    nx.draw_networkx_edges(subgraph, pos, width=0.2, alpha=0.5)\n",
        "    labels = {n: n for n in d}  \n",
        "    nx.draw_networkx_labels(subgraph, pos, labels, font_size=8)\n",
        "\n",
        "# Correcting the legend to display properly\n",
        "plt.legend(handles=[plt.Line2D([0], [0], marker='o', color='w', markerfacecolor=color, markersize=15, label=f'Subgrupo {i}') for i, color in enumerate(cm.tab10(range(len(info))), start=1)], loc='upper right')\n",
        "\n",
        "plt.show()"
      ]
    }
  ],
  "metadata": {
    "colab": {
      "provenance": []
    },
    "kernelspec": {
      "display_name": "Python 3",
      "name": "python3"
    },
    "language_info": {
      "codemirror_mode": {
        "name": "ipython",
        "version": 3
      },
      "file_extension": ".py",
      "mimetype": "text/x-python",
      "name": "python",
      "nbconvert_exporter": "python",
      "pygments_lexer": "ipython3",
      "version": "3.10.13"
    }
  },
  "nbformat": 4,
  "nbformat_minor": 0
}
