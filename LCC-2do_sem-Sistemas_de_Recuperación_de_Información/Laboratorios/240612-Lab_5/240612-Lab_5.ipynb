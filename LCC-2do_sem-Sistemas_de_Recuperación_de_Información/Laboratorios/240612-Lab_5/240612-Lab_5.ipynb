{
  "cells": [
    {
      "cell_type": "markdown",
      "metadata": {},
      "source": [
        "# Laboratorio #4: Procesamiento del Lenguaje Natural\n",
        "\n",
        "El procesamiento del lenguaje natural, también conocido como NLP (por sus siglas en inglés), es un subcampo de la inteligencia artificial que permite a las computadoras comprender el lenguaje humano. \n",
        "\n",
        "EL NLP está a nuestro alrededor: extracción de información, análisis de sentimientos, traducción automática (por ejemplo, el traductor de Google), detección de spam, autocompletar y bots de chat, por nombrar algunos.\n",
        "\n",
        "El lenguaje humano está lleno de ambigüedades, las cuales requerien de análisis complejos para que una computadora pueda entender el significado real de la frase. Por ejemplo, en la oración:\n",
        "<div style=\"text-align:center;\">\n",
        "    <p>`La mujer golpeó a un hombre con un paraguas`</p>\n",
        "</div>\n",
        "puede tener dos significados distintos: la mujer golpeó a un hombre el cual tenía un paraguas o, la mujer golpeó con su paraguas a un hombre. Existen algoritmos y técnicas para desambiguar las frases.\n",
        "\n",
        "Muchos de los SRI actuales ofrecen la posibilidad a los usuarios de autocompletar las freses que este introduce y esto lo hacen a través de modelos de lenguajes y representaciones \"cómodas\" que le permiten predecir el texto del usuario. \n",
        "\n",
        "El objetivo de la clase será **implementar un conjunto de funciones que permitan predecir texto**, de forma similar a la mostrada en la figura siguiente: \n",
        "<div style=\"text-align:center;\">\n",
        "    <img src=\"predecir-texto.png\" width=\"250\">\n",
        "</div>\n",
        "\n",
        "Comencemos importando las bibliotecas necesarias."
      ]
    },
    {
      "cell_type": "code",
      "execution_count": null,
      "metadata": {},
      "outputs": [],
      "source": [
        "\n",
        "# Permitirá el preprocesamiento con los textos\n",
        "import spacy\n",
        "nlp = spacy.load(\"en_core_web_sm\")\n",
        "\n",
        "# Función para crear los n-gramas\n",
        "from nltk import ngrams\n",
        "\n",
        "import nltk\n",
        "\n",
        "# Almacenará las relaciones entre la información representada con los n-gramas\n",
        "from nltk.probability import ConditionalFreqDist\n",
        "\n",
        "# Funciones auxiliares útiles \n",
        "from teacher_help import get_text"
      ]
    },
    {
      "cell_type": "markdown",
      "metadata": {},
      "source": [
        "### Ejercicio #1: Implemente una función para procesar textos.\n",
        "\n",
        "Para la resolución del ejercicio puede considerar:\n",
        "- Mantener solo el texto, de la misma forma en que lo encuentre.\n",
        "- No preservar números, signos de puntuación u otros términos con caracteres esepciales.\n",
        "\n",
        "###### Pista: Ya viste algo similar a la respuesta esperada. Intenta recordar."
      ]
    },
    {
      "cell_type": "code",
      "execution_count": null,
      "metadata": {},
      "outputs": [],
      "source": [
        "def normalize_text(text):\n",
        "    \"\"\"Normalizes the text to be processed\n",
        "\n",
        "    Args:\n",
        "        text (str): Text to process.\n",
        "        \n",
        "    Return:\n",
        "        [str]: Text to process\n",
        "    \n",
        "    \"\"\"\n",
        "    raise NotImplementedError('Ejercicio #1')"
      ]
    },
    {
      "cell_type": "code",
      "execution_count": null,
      "metadata": {},
      "outputs": [],
      "source": [
        "text = 'the tree is empty. tomorrow 33. the tree is blue and have dreams'\n",
        "words = normalize_text(text)\n",
        "\n",
        "print('Texto normalizado:', words)"
      ]
    },
    {
      "cell_type": "markdown",
      "metadata": {},
      "source": [
        "---\n",
        "\n",
        "El próximo paso es establecer una relación entre los términos del texto almacenado para la predicción. Nótese que para esta tarea, se necesita una base de datos previa, puesto que el sistema no puede predecir el próximo término de una frase si no conoce de antemano posibles frases.\n",
        "\n",
        "Luego, a través de un ejemplo simple puede demostrarse la dependencia entre algunas palabras, por ejemplo: es más probable que aparezca la frase \"El gato está durmiendo\" que \"El gato es bailando\". Si esta idea se lleva al campo de las probabilidades puede denotarse como:\n",
        "$$P(\\text{``El gato está durmiendo''})>P(\\text{``El gato está bailando''})$$ \n",
        "donde $P$ denota la probabilidad de que la oración.\n",
        "\n",
        "Esta idea puede aplicarse usando el modelo de lenguaje de N-Gramas, el cual predice la probabilidad de la ocurrencia de una secuencia de $N$ términos. Recuerde que la representación BoW (bolsa de palabras) es un modelo donde $N=1$.\n",
        "\n",
        "Para que el modelo N-Grama funcione correctamente se usará la suposición de Markóv, la cual plantea que la probabilidad de que aparezca un término solo dependerá de sus $N-1$ términos anteriores.\n",
        "\n",
        "### Ejercicio #2: Contruya un modelo N-Grama para la representación de la información y sus relaciones.\n",
        "\n",
        "Considere las siguientes ideas durante la resolución de la función:\n",
        "\n",
        "- Se trabajará con n-gramas de tamaño 3.\n",
        "\n",
        "- La función `ngrams` construirá los n-gramas. Para su ejecución, además de la lista de términos, puede hacer uso de otros parámetros como:\n",
        "  - pad_left (boolean): Indica si el primer n-grama detectado será: `('unknown', 'unknown', 'el')` o `('el', 'gato', 'está')`.\n",
        "  - pad_right=(boolean): Indica si el último n-grama detectado será: `('gato', 'está', 'durmiendo')` o `('durmiendo', 'unknown', 'unknown')`.\n",
        "  - left_pad_symbol (str): Si `pad_left=True` define el caracter a poner por 'unknown'.\n",
        "  - right_pad_symbol (str): Si `pad_right=True` define el caracter a poner por 'unknown'.\n",
        "\n",
        "- La clase `ConditionalFreqDist` permite crear un diccionario con cierta particularidad, conoce que los valores de cada llave serán números, permitiendo de forma cómoda establecer operadores matemáticos. Por ejemplo:\n",
        "  ```python\n",
        "  tmp = ConditionalFreqDist()\n",
        "  tmp[('a', 'b')]['c'] = 4 \n",
        "  tmp[('a', 'b')]['d'] = 2 \n",
        "  tmp[('c', 'd')]['a'] = 1 \n",
        "  total = float(sum(tmp[('a', 'b')].values()))\n",
        "  tmp[('a', 'b')]['c'] /= total\n",
        "\n",
        "  from pprint import pprint\n",
        "  pprint(list(tmp.items()))\n",
        "  ```\n",
        "\n",
        "- Normalice los valores, de forma que lo mantenido en cada elemento de la relación es una probabilidad."
      ]
    },
    {
      "cell_type": "code",
      "execution_count": null,
      "metadata": {},
      "outputs": [],
      "source": [
        "def n_gram_model(text):\n",
        "    \"\"\"Build the N-Gram model\n",
        "\n",
        "    Args:\n",
        "        text ([str]): List of pre-processed terms.\n",
        "\n",
        "    Returns:\n",
        "        nltk.probability.ConditionalFreqDist: Relationships between n-grams according to the normalized frequency of occurrence\n",
        "    \"\"\"\n",
        "    raise NotImplementedError('Ejercicio #2')"
      ]
    },
    {
      "cell_type": "code",
      "execution_count": null,
      "metadata": {},
      "outputs": [],
      "source": [
        "model = n_gram_model(words)\n",
        "\n",
        "from pprint import pprint\n",
        "print('Información del modelo:')\n",
        "pprint(list(model.items()))"
      ]
    },
    {
      "cell_type": "markdown",
      "metadata": {},
      "source": [
        "---\n",
        "\n",
        "Una vez hecho el modelo, ya es posible predecir frases.\n",
        "\n",
        "### Ejercicio #3: Implemente una función que dado un modelo n-grama y una frase, devuelva una lista del posible término siguiente.\n"
      ]
    },
    {
      "cell_type": "code",
      "execution_count": null,
      "metadata": {},
      "outputs": [],
      "source": [
        "def predict(model, phrase):\n",
        "    \"\"\"Predict the next term in a sentence\n",
        "\n",
        "    Args:\n",
        "        model (ConditionalFreqDist): Model.\n",
        "        phrase (_type_): Phrase.\n",
        "\n",
        "    Returns:\n",
        "        [str]: List of possible terms, ordered from highest to lowest probability of appearance.\n",
        "    \n",
        "    \"\"\"\n",
        "    raise NotImplementedError('Ejercicio #3')"
      ]
    },
    {
      "cell_type": "code",
      "execution_count": null,
      "metadata": {},
      "outputs": [],
      "source": [
        "phrase = 'tree is'\n",
        "predictions = predict(model, phrase)\n",
        "print(\"Predicción del modelo trigrama: \", predictions)"
      ]
    },
    {
      "cell_type": "markdown",
      "metadata": {},
      "source": [
        "### ¿Terminaste? ¡Yeah!\n",
        "\n",
        "Prueba ahora con un ejemplo real. Los textos son libros famosos. Ejecuta la siguiente celda y define tu frase a completar."
      ]
    },
    {
      "cell_type": "code",
      "execution_count": null,
      "metadata": {},
      "outputs": [],
      "source": [
        "print('Normalizando los textos ...')\n",
        "words = get_text('./books', normalize_text)\n",
        "\n",
        "print('Creando el modelo ...')\n",
        "model = n_gram_model(words)"
      ]
    },
    {
      "cell_type": "code",
      "execution_count": null,
      "metadata": {},
      "outputs": [],
      "source": [
        "phrase = 'Alice had no very'\n",
        "predictions = predict(model, phrase)\n",
        "print(\"Trigram model predictions: \", predictions)"
      ]
    }
  ],
  "metadata": {
    "colab": {
      "provenance": []
    },
    "kernelspec": {
      "display_name": "Python 3",
      "name": "python3"
    },
    "language_info": {
      "codemirror_mode": {
        "name": "ipython",
        "version": 3
      },
      "file_extension": ".py",
      "mimetype": "text/x-python",
      "name": "python",
      "nbconvert_exporter": "python",
      "pygments_lexer": "ipython3",
      "version": "3.10.13"
    }
  },
  "nbformat": 4,
  "nbformat_minor": 0
}
