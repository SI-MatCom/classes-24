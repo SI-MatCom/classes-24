{
 "cells": [
  {
   "cell_type": "markdown",
   "metadata": {},
   "source": [
    "# Bases de Datos\n",
    "## Clase Práctica 8: Bases de Datos Documentales. MongoDB"
   ]
  },
  {
   "cell_type": "markdown",
   "metadata": {},
   "source": [
    "### Configuración ⚙️"
   ]
  },
  {
   "cell_type": "code",
   "execution_count": 1,
   "metadata": {},
   "outputs": [],
   "source": [
    "from pymongo import MongoClient\n",
    "client = MongoClient(\"mongodb://localhost:27017/\")\n",
    "\n",
    "db = client.bookstore"
   ]
  },
  {
   "cell_type": "code",
   "execution_count": 13,
   "metadata": {},
   "outputs": [
    {
     "data": {
      "text/plain": [
       "InsertManyResult([ObjectId('660597c97db52a0f6ce881a5'), ObjectId('660597c97db52a0f6ce881a6'), ObjectId('660597c97db52a0f6ce881a7'), ObjectId('660597c97db52a0f6ce881a8'), ObjectId('660597c97db52a0f6ce881a9')], acknowledged=True)"
      ]
     },
     "execution_count": 13,
     "metadata": {},
     "output_type": "execute_result"
    }
   ],
   "source": [
    "db.books.delete_many({})\n",
    "db.books.insert_many([\n",
    "    {\n",
    "        \"title\": \"The Way of Kings\",\n",
    "        \"author\": \"Brandon Sanderson\",\n",
    "        \"rating\": 9,\n",
    "        \"pages\": 320,\n",
    "        \"genres\": [\"fantasy\"],\n",
    "        \"reviews\": [\n",
    "            {\"name\": \"Yoshi\", \"body\": \"Great book!!!\"},\n",
    "            {\"name\": \"mario\", \"body\": \"So so\"}\n",
    "        ]\n",
    "    },\n",
    "    {\n",
    "        \"title\": \"The Light Fantastic\",\n",
    "        \"author\": \"Terry Pratchett\",\n",
    "        \"pages\": 250,\n",
    "        \"rating\": 6,\n",
    "        \"genres\": [\"fantasy\", \"magic\"],\n",
    "        \"reviews\": [\n",
    "            {\"name\": \"luigi\", \"body\": \"it was pretty good\"},\n",
    "            {\"name\": \"bowser\", \"body\": \"loved it!!\"}\n",
    "        ]\n",
    "    },\n",
    "    {\n",
    "        \"title\": \"The Name of the Wind\",\n",
    "        \"author\": \"Patrick Rothfuss\",\n",
    "        \"pages\": 500,  \n",
    "        \"rating\": 10,\n",
    "        \"genres\": [\"fantasy\"],\n",
    "        \"reviews\": [  \n",
    "            {\"name\": \"peach\", \"body\": \"one of my favs\"}\n",
    "        ]\n",
    "    },\n",
    "    {\n",
    "        \"title\": \"The Color of Magic\",\n",
    "        \"author\": \"Terry Pratchett\",\n",
    "        \"pages\": 350,  \n",
    "        \"rating\": 8,\n",
    "        \"genres\": [\"fantasy\", \"magic\"],\n",
    "        \"reviews\": [  \n",
    "            {\"name\": \"luigi\", \"body\": \"it was ok\"},\n",
    "            {\"name\": \"bowser\", \"body\": \"really good book\"}\n",
    "        ]\n",
    "    },\n",
    "    {\n",
    "        \"title\": \"1984\",\n",
    "        \"author\": \"George Orwell\",\n",
    "        \"pages\": 300,\n",
    "        \"rating\": 6,\n",
    "        \"genres\": [\"sci-fi\", \"dystopian\"],\n",
    "        \"reviews\": [\n",
    "            {\"name\": \"peach\", \"body\": \"not my cup of tea\"},\n",
    "            {\"name\": \"mario\", \"body\": \"meh\"}\n",
    "        ]\n",
    "    }\n",
    "])"
   ]
  },
  {
   "cell_type": "code",
   "execution_count": 15,
   "metadata": {},
   "outputs": [
    {
     "data": {
      "text/plain": [
       "InsertManyResult([ObjectId('6605a6e17db52a0f6ce881aa'), ObjectId('6605a6e17db52a0f6ce881ab'), ObjectId('6605a6e17db52a0f6ce881ac'), ObjectId('6605a6e17db52a0f6ce881ad')], acknowledged=True)"
      ]
     },
     "execution_count": 15,
     "metadata": {},
     "output_type": "execute_result"
    }
   ],
   "source": [
    "db.authors.delete_many({})\n",
    "db.authors.insert_many([\n",
    "    {\n",
    "        \"name\": \"Brandon Sanderson\",\n",
    "        \"birthYear\": 1975,\n",
    "        \"nationality\": \"American\",\n",
    "        \"awards\": [\"Hugo Award for Best Novella\"]\n",
    "    },\n",
    "    {\n",
    "        \"name\": \"Terry Pratchett\",\n",
    "        \"birthYear\": 1948,\n",
    "        \"nationality\": \"British\",\n",
    "        \"awards\": [\"Carnegie Medal\"]\n",
    "    },\n",
    "    {\n",
    "        \"name\": \"Patrick Rothfuss\",\n",
    "        \"birthYear\": 1973,\n",
    "        \"nationality\": \"American\",\n",
    "        \"awards\": [\"Quill Award\"]\n",
    "    },\n",
    "    {\n",
    "        \"name\": \"George Orwell\",\n",
    "        \"birthYear\": 1903,\n",
    "        \"nationality\": \"British\",\n",
    "        \"awards\": []\n",
    "    }\n",
    "])"
   ]
  },
  {
   "cell_type": "markdown",
   "metadata": {},
   "source": [
    "### Ejercicios 🏋️‍♂️"
   ]
  },
  {
   "cell_type": "markdown",
   "metadata": {},
   "source": [
    "1. Obtenga todos los libros con una puntuación de 7 puntos. "
   ]
  },
  {
   "cell_type": "code",
   "execution_count": null,
   "metadata": {},
   "outputs": [],
   "source": []
  },
  {
   "cell_type": "markdown",
   "metadata": {},
   "source": [
    "2. Obtenga todos los libros con una puntuación **mayor** a 7 puntos. "
   ]
  },
  {
   "cell_type": "code",
   "execution_count": null,
   "metadata": {},
   "outputs": [],
   "source": []
  },
  {
   "cell_type": "markdown",
   "metadata": {},
   "source": [
    "3. Obtenga todos los libros con una puntuación **menor** a 8 puntos. "
   ]
  },
  {
   "cell_type": "code",
   "execution_count": null,
   "metadata": {},
   "outputs": [],
   "source": []
  },
  {
   "cell_type": "markdown",
   "metadata": {},
   "source": [
    "4. Obtenga todos los libros con una puntuación mayor a 7 puntos, cuyo autor sea Patrick Rothfuss. "
   ]
  },
  {
   "cell_type": "code",
   "execution_count": null,
   "metadata": {},
   "outputs": [],
   "source": []
  },
  {
   "cell_type": "markdown",
   "metadata": {},
   "source": [
    "5. Obtenga todos los libros con una puntuación de 7 o 9 puntos."
   ]
  },
  {
   "cell_type": "code",
   "execution_count": null,
   "metadata": {},
   "outputs": [],
   "source": []
  },
  {
   "cell_type": "code",
   "execution_count": null,
   "metadata": {},
   "outputs": [],
   "source": [
    "# otra manera de hacerlo... 🤔"
   ]
  },
  {
   "cell_type": "markdown",
   "metadata": {},
   "source": [
    "6. Obtenga todos los libros con una puntuación de 7 puntos o el autor es Terry Pratchett."
   ]
  },
  {
   "cell_type": "code",
   "execution_count": null,
   "metadata": {},
   "outputs": [],
   "source": []
  },
  {
   "cell_type": "markdown",
   "metadata": {},
   "source": [
    "7. Obtenga todos los libros con menos de 300 páginas o más de 400."
   ]
  },
  {
   "cell_type": "code",
   "execution_count": null,
   "metadata": {},
   "outputs": [],
   "source": []
  },
  {
   "cell_type": "markdown",
   "metadata": {},
   "source": [
    "8. Obtenga todos los libros de fantasía."
   ]
  },
  {
   "cell_type": "code",
   "execution_count": null,
   "metadata": {},
   "outputs": [],
   "source": []
  },
  {
   "cell_type": "markdown",
   "metadata": {},
   "source": [
    "9. Obtenga todos los libros que sólo sean de fantasía."
   ]
  },
  {
   "cell_type": "code",
   "execution_count": null,
   "metadata": {},
   "outputs": [],
   "source": []
  },
  {
   "cell_type": "markdown",
   "metadata": {},
   "source": [
    "10. Obtenga todos los libros de fantasía y ciencia ficción."
   ]
  },
  {
   "cell_type": "code",
   "execution_count": null,
   "metadata": {},
   "outputs": [],
   "source": []
  },
  {
   "cell_type": "markdown",
   "metadata": {},
   "source": [
    "11. Obtenga todos los libros en los que `luigi` haya comentado."
   ]
  },
  {
   "cell_type": "code",
   "execution_count": null,
   "metadata": {},
   "outputs": [],
   "source": []
  },
  {
   "cell_type": "markdown",
   "metadata": {},
   "source": [
    "12. Obtenga el ID del primer libro que aparece al ejecutar `db.books.find()` y elimínelo."
   ]
  },
  {
   "cell_type": "code",
   "execution_count": null,
   "metadata": {},
   "outputs": [],
   "source": [
    "from bson import ObjectId"
   ]
  },
  {
   "cell_type": "markdown",
   "metadata": {},
   "source": [
    "13. Elimine todos los libros de Terry Pratchett."
   ]
  },
  {
   "cell_type": "code",
   "execution_count": null,
   "metadata": {},
   "outputs": [],
   "source": []
  },
  {
   "cell_type": "markdown",
   "metadata": {},
   "source": [
    "14. Cambie la puntuación de *The Color of Magic* a 8 y la cantidad de páginas a 360."
   ]
  },
  {
   "cell_type": "code",
   "execution_count": null,
   "metadata": {},
   "outputs": [],
   "source": []
  },
  {
   "cell_type": "markdown",
   "metadata": {},
   "source": [
    "15. Incremente por 2 la puntuación de todos los libros de Terry Pratchett."
   ]
  },
  {
   "cell_type": "code",
   "execution_count": null,
   "metadata": {},
   "outputs": [],
   "source": []
  },
  {
   "cell_type": "markdown",
   "metadata": {},
   "source": [
    "16. Obtenga la puntuación promedio y la cantidad de páginas escritas por autor."
   ]
  },
  {
   "cell_type": "code",
   "execution_count": null,
   "metadata": {},
   "outputs": [],
   "source": []
  },
  {
   "cell_type": "markdown",
   "metadata": {},
   "source": [
    "17. Obtenga la cantidad de libros por género."
   ]
  },
  {
   "cell_type": "code",
   "execution_count": null,
   "metadata": {},
   "outputs": [],
   "source": []
  },
  {
   "cell_type": "markdown",
   "metadata": {},
   "source": [
    "18. Obtenga todos los libros con la información del autor correspondiente."
   ]
  },
  {
   "cell_type": "code",
   "execution_count": null,
   "metadata": {},
   "outputs": [],
   "source": []
  }
 ],
 "metadata": {
  "kernelspec": {
   "display_name": "Python 3",
   "language": "python",
   "name": "python3"
  },
  "language_info": {
   "codemirror_mode": {
    "name": "ipython",
    "version": 3
   },
   "file_extension": ".py",
   "mimetype": "text/x-python",
   "name": "python",
   "nbconvert_exporter": "python",
   "pygments_lexer": "ipython3",
   "version": "3.11.3"
  }
 },
 "nbformat": 4,
 "nbformat_minor": 2
}
