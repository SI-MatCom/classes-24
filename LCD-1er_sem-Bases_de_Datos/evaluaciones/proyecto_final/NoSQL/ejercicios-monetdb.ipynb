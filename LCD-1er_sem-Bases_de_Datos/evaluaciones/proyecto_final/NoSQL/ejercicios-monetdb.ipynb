{
 "cells": [
  {
   "cell_type": "markdown",
   "metadata": {},
   "source": [
    "# Bases de Datos 📚\n",
    "## Proyecto: Consultas a GreenScape empleando MonetDB 🥬🤔"
   ]
  },
  {
   "cell_type": "markdown",
   "metadata": {},
   "source": [
    "### Creación y poblado de la base de datos 🏗️🧑‍🤝‍🧑"
   ]
  },
  {
   "cell_type": "markdown",
   "metadata": {},
   "source": [
    "> Se asume que usted tiene instalado DbVisualizer, que ha añadido correctamente [el driver](https://www.monetdb.org/downloads/Java/monetdb-jdbc-3.3.jre8.jar) para MonetDB, y que ha establecido una conexión con el servidor de Monet. Todos estos pasos se encuentran en [este mensaje](https://t.me/matcom_database_ds/21)."
   ]
  },
  {
   "cell_type": "markdown",
   "metadata": {},
   "source": [
    "1. Abra DbVisualizer.\n",
    "2. Presione `Ctrl+O` para importar el archivo `seed-monetdb.sql` que se encuentra en el mismo comprimido de este _notebook_.\n",
    "3. Ejecute el _script_ presionando el botón de ejecutar, como se muestra a continuación.\n",
    "   \n",
    "   ![run button](./run-button.jpg)\n",
    "4. Si el paso anterior se ejecutó satisfactoriamente, entonces puede cerrar la pestaña del _script_ y abrir una nueva para que pueda responder a las preguntas de la siguiente sección.\n",
    "\n",
    "   ![close and open tab](./close-tab-and-new-tab.jpg)\n",
    "5. Asegúrate de tener seleccionado el esquema (base de datos) con nombre `greenscape`. Quizás necesites presionar `F5` para que aparezca en el selector.\n",
    "   \n",
    "   ![select greenscape schema](./select-greenscape-schema.jpg)"
   ]
  },
  {
   "cell_type": "markdown",
   "metadata": {},
   "source": [
    "### Ejercicios 🏋️"
   ]
  },
  {
   "cell_type": "markdown",
   "metadata": {},
   "source": [
    "1. Obtenga la temperatura superficial promedio registrada por cada sensor.\n",
    "2. Calcula la radiación solar total recibida por cada sensor en el último mes.\n",
    "3. Lista todos los sensores que no han registrado datos en los últimos 60 días.\n",
    "4. Encuentre la correlación entre la temperatura del suelo y la humedad relativa para cada sensor.\n",
    "\n",
    "   > 💡Tip: ver [este apartado de la documentación](https://www.monetdb.org/documentation-Dec2023/user-guide/sql-functions/aggregate-functions/#aggregate-functions-for-statistics).\n",
    "5. Calcule la covarianza entre la velocidad del viento y la precipitación para cada sensor."
   ]
  }
 ],
 "metadata": {
  "language_info": {
   "name": "python"
  }
 },
 "nbformat": 4,
 "nbformat_minor": 2
}
